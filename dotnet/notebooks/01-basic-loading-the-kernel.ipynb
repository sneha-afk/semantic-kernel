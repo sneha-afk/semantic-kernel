{
 "cells": [
  {
   "attachments": {},
   "cell_type": "markdown",
   "metadata": {},
   "source": [
    "# Basic Loading of the Kernel"
   ]
  },
  {
   "attachments": {},
   "cell_type": "markdown",
   "metadata": {},
   "source": [
    "The Semantic Kernel SDK can be imported from the following nuget feed:"
   ]
  },
  {
   "cell_type": "code",
   "execution_count": null,
   "metadata": {
    "dotnet_interactive": {
     "language": "csharp"
    },
    "polyglot_notebook": {
     "kernelName": "csharp"
    },
    "vscode": {
     "languageId": "polyglot-notebook"
    }
   },
   "outputs": [],
   "source": [
    "#r \"nuget: Microsoft.SemanticKernel, 0.21.230828.2-preview\""
   ]
  },
  {
   "attachments": {},
   "cell_type": "markdown",
   "metadata": {},
   "source": [
    "After adding the nuget package, you can instantiate the kernel in a few ways, depending on your use case.\n"
   ]
  },
  {
   "cell_type": "code",
   "execution_count": null,
   "metadata": {
    "dotnet_interactive": {
     "language": "csharp"
    },
    "polyglot_notebook": {
     "kernelName": "csharp"
    },
    "vscode": {
     "languageId": "polyglot-notebook"
    }
   },
   "outputs": [],
   "source": [
    "using Microsoft.SemanticKernel;\n",
    "\n",
    "// Simple instance\n",
    "IKernel kernel_1 = KernelBuilder.Create();"
   ]
  },
  {
   "cell_type": "code",
   "execution_count": null,
   "metadata": {
    "dotnet_interactive": {
     "language": "csharp"
    },
    "polyglot_notebook": {
     "kernelName": "csharp"
    },
    "vscode": {
     "languageId": "polyglot-notebook"
    }
   },
   "outputs": [],
   "source": [
    "using Microsoft.Extensions.Logging;\n",
    "using Microsoft.Extensions.Logging.Abstractions;\n",
    "\n",
    "// Inject your logger \n",
    "// see Microsoft.Extensions.Logging.ILogger @ https://learn.microsoft.com/dotnet/core/extensions/logging\n",
    "ILoggerFactory myLoggerFactory = NullLoggerFactory.Instance;\n",
    "IKernel kernel_2 =  new KernelBuilder()\n",
    "    .WithLoggerFactory(myLoggerFactory)\n",
    "    .Build();"
   ]
  },
  {
   "cell_type": "code",
   "execution_count": null,
   "metadata": {
    "dotnet_interactive": {
     "language": "csharp"
    },
    "polyglot_notebook": {
     "kernelName": "csharp"
    },
    "vscode": {
     "languageId": "polyglot-notebook"
    }
   },
   "outputs": [],
   "source": [
    "// Inject a custom configuration\n",
    "var config = new KernelConfig();\n",
    "IKernel kernel_3 = Kernel.Builder\n",
    "    .WithConfiguration(config)\n",
    "    .Build();"
   ]
  },
  {
   "attachments": {},
   "cell_type": "markdown",
   "metadata": {},
   "source": [
    "When using the kernel for AI requests, the kernel needs some settings like URL and credentials to the AI models.\n",
    "\n",
    "The SDK currently supports OpenAI and Azure OpenAI, other services will be added over time.\n",
    "\n",
    "If you need an Azure OpenAI key, go [here](https://learn.microsoft.com/en-us/azure/cognitive-services/openai/quickstart?pivots=rest-api)."
   ]
  },
  {
   "cell_type": "code",
   "execution_count": null,
   "metadata": {
    "dotnet_interactive": {
     "language": "csharp"
    },
    "polyglot_notebook": {
     "kernelName": "csharp"
    },
    "vscode": {
     "languageId": "polyglot-notebook"
    }
   },
   "outputs": [],
   "source": [
    "Kernel.Builder\n",
    ".WithAzureChatCompletionService(\n",
    "    \"my-finetuned-model\",                   // Azure OpenAI *Deployment Name*\n",
    "    \"https://contoso.openai.azure.com/\",    // Azure OpenAI *Endpoint*\n",
    "    \"...your Azure OpenAI Key...\",          // Azure OpenAI *Key*\n",
    "    \"Azure_curie\"                           // alias used in the prompt templates' config.json\n",
    ")\n",
    ".WithOpenAIChatCompletionService(\n",
    "    \"gpt-3.5-turbo\",                        // OpenAI Model Name\n",
    "    \"...your OpenAI API Key...\",            // OpenAI API key\n",
    "    \"...your OpenAI Org ID...\",             // *optional* OpenAI Organization ID\n",
    "    \"OpenAI_davinci\"                        // alias used in the prompt templates' config.json\n",
    ");"
   ]
  },
  {
   "attachments": {},
   "cell_type": "markdown",
   "metadata": {},
   "source": [
    "When working with multiple backends and multiple models, the **first backend** defined\n",
    "is also the \"**default**\" used in these scenarios:\n",
    "\n",
    "* a prompt configuration doesn't specify which AI backend to use\n",
    "* a prompt configuration requires a backend unknown to the kernel\n",
    "\n",
    "The default can be set programmatically:"
   ]
  },
  {
   "cell_type": "code",
   "execution_count": null,
   "metadata": {
    "dotnet_interactive": {
     "language": "csharp"
    },
    "polyglot_notebook": {
     "kernelName": "csharp"
    },
    "vscode": {
     "languageId": "polyglot-notebook"
    }
   },
   "outputs": [],
   "source": [
    "Kernel.Builder\n",
    ".WithOpenAIChatCompletionService(\n",
    "    \"gpt-3.5-turbo\",                        // OpenAI Model Name\n",
    "    \"...your OpenAI API Key...\",            // OpenAI API key\n",
    "    \"...your OpenAI Org ID...\",             // *optional* OpenAI Organization ID\n",
    "    \"OpenAI_davinci\",                       // alias used in the prompt templates' config.json\n",
    "    true                                    // This flag specifies that this service is the default one.\n",
    ");"
   ]
  },
  {
   "attachments": {},
   "cell_type": "markdown",
   "metadata": {},
   "source": [
    "Great, now that you're familiar with setting up the Semantic Kernel, let's see [how we can use it to run prompts](02-running-prompts-from-file.ipynb)."
   ]
  }
 ],
 "metadata": {
  "kernelspec": {
   "display_name": ".NET (C#)",
   "language": "C#",
   "name": ".net-csharp"
  },
  "language_info": {
   "file_extension": ".cs",
   "mimetype": "text/x-csharp",
   "name": "C#",
   "pygments_lexer": "csharp",
   "version": "11.0"
  },
  "polyglot_notebook": {
   "kernelInfo": {
    "defaultKernelName": "csharp",
    "items": [
     {
      "aliases": [],
      "name": "csharp"
     }
    ]
   }
  }
 },
 "nbformat": 4,
 "nbformat_minor": 2
}
